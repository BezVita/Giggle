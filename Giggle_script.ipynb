{
 "cells": [
  {
   "cell_type": "code",
   "execution_count": 3,
   "metadata": {},
   "outputs": [
    {
     "ename": "FileNotFoundError",
     "evalue": "[Errno 2] No such file or directory: 'n:/Giggle/Active_TSS_search'",
     "output_type": "error",
     "traceback": [
      "\u001b[1;31m---------------------------------------------------------------------------\u001b[0m",
      "\u001b[1;31mFileNotFoundError\u001b[0m                         Traceback (most recent call last)",
      "\u001b[1;32m<ipython-input-3-639c0be08487>\u001b[0m in \u001b[0;36m<module>\u001b[1;34m\u001b[0m\n\u001b[0;32m     46\u001b[0m     \u001b[0mfilename\u001b[0m \u001b[1;33m=\u001b[0m \u001b[1;34m'n:/Giggle/'\u001b[0m \u001b[1;33m+\u001b[0m \u001b[0mstr\u001b[0m\u001b[1;33m(\u001b[0m\u001b[0mx\u001b[0m\u001b[1;33m)\u001b[0m \u001b[1;33m+\u001b[0m \u001b[1;34m'_search'\u001b[0m\u001b[1;33m\u001b[0m\u001b[1;33m\u001b[0m\u001b[0m\n\u001b[0;32m     47\u001b[0m     \u001b[0md\u001b[0m \u001b[1;33m=\u001b[0m \u001b[1;33m[\u001b[0m\u001b[1;33m]\u001b[0m\u001b[1;33m\u001b[0m\u001b[1;33m\u001b[0m\u001b[0m\n\u001b[1;32m---> 48\u001b[1;33m     \u001b[1;32mwith\u001b[0m \u001b[0mopen\u001b[0m\u001b[1;33m(\u001b[0m\u001b[0mfilename\u001b[0m\u001b[1;33m,\u001b[0m \u001b[1;34m'r'\u001b[0m\u001b[1;33m)\u001b[0m \u001b[1;32mas\u001b[0m \u001b[0mf\u001b[0m\u001b[1;33m:\u001b[0m\u001b[1;33m\u001b[0m\u001b[1;33m\u001b[0m\u001b[0m\n\u001b[0m\u001b[0;32m     49\u001b[0m         \u001b[1;32mfor\u001b[0m \u001b[0mi\u001b[0m \u001b[1;32min\u001b[0m \u001b[0mf\u001b[0m\u001b[1;33m.\u001b[0m\u001b[0mreadlines\u001b[0m\u001b[1;33m(\u001b[0m\u001b[1;33m)\u001b[0m\u001b[1;33m:\u001b[0m\u001b[1;33m\u001b[0m\u001b[1;33m\u001b[0m\u001b[0m\n\u001b[0;32m     50\u001b[0m             \u001b[0md\u001b[0m\u001b[1;33m.\u001b[0m\u001b[0mappend\u001b[0m\u001b[1;33m(\u001b[0m\u001b[0mint\u001b[0m\u001b[1;33m(\u001b[0m\u001b[0mi\u001b[0m\u001b[1;33m.\u001b[0m\u001b[0msplit\u001b[0m\u001b[1;33m(\u001b[0m\u001b[1;34m':'\u001b[0m\u001b[1;33m)\u001b[0m\u001b[1;33m[\u001b[0m\u001b[1;33m-\u001b[0m\u001b[1;36m1\u001b[0m\u001b[1;33m]\u001b[0m\u001b[1;33m[\u001b[0m\u001b[1;33m:\u001b[0m\u001b[1;33m-\u001b[0m\u001b[1;36m1\u001b[0m\u001b[1;33m]\u001b[0m\u001b[1;33m)\u001b[0m\u001b[1;33m)\u001b[0m\u001b[1;33m\u001b[0m\u001b[1;33m\u001b[0m\u001b[0m\n",
      "\u001b[1;31mFileNotFoundError\u001b[0m: [Errno 2] No such file or directory: 'n:/Giggle/Active_TSS_search'"
     ]
    }
   ],
   "source": [
    "import os\n",
    "import seaborn as sns\n",
    "import matplotlib.pyplot as plt\n",
    "import math\n",
    "\n",
    "mnemonics_short = ['1_TssA',\n",
    "       '2_TssAFlnk',\n",
    "       '3_TxFlnk',\n",
    "       '4_Tx' ,\n",
    "       '5_TxWk',\n",
    "       '6_EnhG',\n",
    "       '7_Enh' ,\n",
    "       '8_ZNF',\n",
    "       '9_Het',\n",
    "       '10_TssBiv',\n",
    "       '11_BivFlnk',\n",
    "       '12_EnhBiv',\n",
    "       '13_ReprPC',\n",
    "       '14_ReprPCWk',\n",
    "       '15_Quies']   \n",
    "\n",
    "mnemonics = ['Active_TSS', 'Flanking_Active_TSS', 'gene_5_and_3', 'Strong_transcription', 'Weak_transcription', 'Genic_enhancers', 'Enhancers', 'ZNF_genes_and_repeats', 'Heterochromatin', 'Bivalent_Poised_TSS', 'Bivalent_TSS_Enh', 'Bivalent_Enhancer', 'Repressed_PolyComb', 'Weak_Repressed_PolyComb', 'Quiescent_Low']\n",
    "\n",
    "roadmap = [\n",
    "'1.iPSC',\n",
    "'2.Thymus',\n",
    "'3.smMuscle',\n",
    "'4.Neurosh',\n",
    "'5.Muscle',\n",
    "'6.Mesench',\n",
    "'7.Lung',\n",
    "'8.Heart',\n",
    "'9.Brain' ]\n",
    "\n",
    "\n",
    "for x in roadmap:\n",
    "    for i in range(len(mnemonics_short)):\n",
    "            ind = 'giggle index -i \"'+str(x)+'/bed/*'+str(mnemonics_short[i])+'.bed.gz\" -o '+str(x)+'/index_'+str(mnemonics_short[i])+' -s -f' \n",
    "            os.system(ind)\n",
    "            sea = 'giggle search -i '+str(x)+'/index_'+str(mnemonics_short[i])+' -q ' + str(mnemonics[i]) + '_all.bed.gz >> ' + str(mnemonics[i]) +'_search'\n",
    "            os.system(sea)\n",
    "\n",
    "            \n",
    "dic = {}\n",
    "for x in mnemonics:\n",
    "    filename = str(x) + '_search'\n",
    "    d = []\n",
    "    with open(filename, 'r') as f:\n",
    "        for i in f.readlines():\n",
    "            d.append(int(i.split(':')[-1][:-1]))\n",
    "    dic[str(x)] = d\n",
    "\n",
    "    \n",
    "    \n",
    "# Heatmap\n",
    "\n",
    "sns.heatmap(list(dic.values()), xticklabels = [], yticklabels = dic.keys())\n",
    "plt.show()\n",
    "\n",
    "\n",
    "\n",
    "# Heatmap with log-values\n",
    "\n",
    "for i in list(dic.values()):\n",
    "    for x in range(len(i)):\n",
    "        i[x] = math.log10((i[x]))\n",
    "        \n",
    "import seaborn as sns\n",
    "import matplotlib.pyplot as plt\n",
    "sns.heatmap(list(dic.values()), xticklabels = [], yticklabels = dic.keys())\n",
    "plt.show()"
   ]
  },
  {
   "cell_type": "code",
   "execution_count": null,
   "metadata": {},
   "outputs": [],
   "source": []
  }
 ],
 "metadata": {
  "kernelspec": {
   "display_name": "Python 3",
   "language": "python",
   "name": "python3"
  },
  "language_info": {
   "codemirror_mode": {
    "name": "ipython",
    "version": 3
   },
   "file_extension": ".py",
   "mimetype": "text/x-python",
   "name": "python",
   "nbconvert_exporter": "python",
   "pygments_lexer": "ipython3",
   "version": "3.7.1"
  }
 },
 "nbformat": 4,
 "nbformat_minor": 2
}
